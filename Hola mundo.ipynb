{
 "cells": [
  {
   "cell_type": "code",
   "execution_count": 2,
   "id": "85c68766",
   "metadata": {},
   "outputs": [
    {
     "name": "stdout",
     "output_type": "stream",
     "text": [
      "Hola Mundo\n"
     ]
    }
   ],
   "source": [
    "print(\"Hola Mundo\")"
   ]
  },
  {
   "cell_type": "code",
   "execution_count": null,
   "id": "297b0247",
   "metadata": {},
   "outputs": [],
   "source": [
    "#CREA TUPLA"
   ]
  },
  {
   "cell_type": "code",
   "execution_count": 3,
   "id": "fcde9309",
   "metadata": {},
   "outputs": [],
   "source": [
    "Tupla=(1,\"hola\",False,4.5,\"reir\")"
   ]
  },
  {
   "cell_type": "code",
   "execution_count": 4,
   "id": "b73f0317",
   "metadata": {},
   "outputs": [
    {
     "data": {
      "text/plain": [
       "(1, 'hola', False, 4.5, 'reir')"
      ]
     },
     "execution_count": 4,
     "metadata": {},
     "output_type": "execute_result"
    }
   ],
   "source": [
    "Tupla"
   ]
  },
  {
   "cell_type": "code",
   "execution_count": 5,
   "id": "7ad8802a",
   "metadata": {},
   "outputs": [
    {
     "data": {
      "text/plain": [
       "tuple"
      ]
     },
     "execution_count": 5,
     "metadata": {},
     "output_type": "execute_result"
    }
   ],
   "source": [
    "type(Tupla)"
   ]
  },
  {
   "cell_type": "code",
   "execution_count": null,
   "id": "a9c97436",
   "metadata": {},
   "outputs": [],
   "source": [
    "#CONVIERTE TUPLA A LISTA"
   ]
  },
  {
   "cell_type": "code",
   "execution_count": 7,
   "id": "2bc54add",
   "metadata": {},
   "outputs": [],
   "source": [
    "convert_list=list(Tupla)"
   ]
  },
  {
   "cell_type": "code",
   "execution_count": 8,
   "id": "9ba54e2e",
   "metadata": {},
   "outputs": [
    {
     "data": {
      "text/plain": [
       "[1, 'hola', False, 4.5, 'reir']"
      ]
     },
     "execution_count": 8,
     "metadata": {},
     "output_type": "execute_result"
    }
   ],
   "source": [
    "convert_list"
   ]
  },
  {
   "cell_type": "code",
   "execution_count": 9,
   "id": "a05acf32",
   "metadata": {},
   "outputs": [
    {
     "data": {
      "text/plain": [
       "list"
      ]
     },
     "execution_count": 9,
     "metadata": {},
     "output_type": "execute_result"
    }
   ],
   "source": [
    "type(convert_list)"
   ]
  },
  {
   "cell_type": "code",
   "execution_count": 14,
   "id": "9b49204c",
   "metadata": {},
   "outputs": [],
   "source": [
    "Diccionario={\"1\":1, \"2\":2, \"3\":3, \"4\":4, \"5\":5}"
   ]
  },
  {
   "cell_type": "code",
   "execution_count": 15,
   "id": "63e58d6b",
   "metadata": {},
   "outputs": [
    {
     "data": {
      "text/plain": [
       "{'1': 1, '2': 2, '3': 3, '4': 4, '5': 5}"
      ]
     },
     "execution_count": 15,
     "metadata": {},
     "output_type": "execute_result"
    }
   ],
   "source": [
    "Diccionario"
   ]
  },
  {
   "cell_type": "code",
   "execution_count": null,
   "id": "e0f7408d",
   "metadata": {},
   "outputs": [],
   "source": []
  }
 ],
 "metadata": {
  "kernelspec": {
   "display_name": "Python 3",
   "language": "python",
   "name": "python3"
  },
  "language_info": {
   "codemirror_mode": {
    "name": "ipython",
    "version": 3
   },
   "file_extension": ".py",
   "mimetype": "text/x-python",
   "name": "python",
   "nbconvert_exporter": "python",
   "pygments_lexer": "ipython3",
   "version": "3.6.13"
  }
 },
 "nbformat": 4,
 "nbformat_minor": 5
}
